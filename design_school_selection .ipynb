{
 "cells": [
  {
   "cell_type": "code",
   "execution_count": 47,
   "metadata": {
    "collapsed": false
   },
   "outputs": [
    {
     "name": "stderr",
     "output_type": "stream",
     "text": [
      "WARNING: replacing module matching_simulation\n"
     ]
    },
    {
     "data": {
      "text/plain": [
       "matching_simulation"
      ]
     },
     "execution_count": 47,
     "metadata": {},
     "output_type": "execute_result"
    }
   ],
   "source": [
    "module matching_simulation\n",
    "\n",
    "immutable Matching\n",
    "    apply_prefs::Array\n",
    "    accept_prefs::Array\n",
    "end\n",
    "\n",
    "function Base.call(f::Matching, typ::ASCIIString)\n",
    "    apply_prefs = f.apply_prefs\n",
    "    accept_prefs = f.accept_prefs\n",
    "    \n",
    "    if typ == \"DA1\"\n",
    "        apply_matched, accept_matched = DA1(apply_prefs, accept_prefs)\n",
    "    elseif typ == \"DA2\"\n",
    "        emp()\n",
    "    elseif typ == \"DA2\"\n",
    "        emp()\n",
    "    else \n",
    "        print(\"Please input 'DA1' or 'DA2' to 'typ'\")\n",
    "    end\n",
    "    return apply_matched, accept_matched\n",
    "end\n",
    "\n",
    "function DA1(apply_prefs::Array, accept_prefs::Array) \n",
    "    da = zeros(Int64, length(accept_prefs[1,:]))\n",
    "    rem = [i for i in 1:length(apply_prefs[1,:])]\n",
    "    depth = ones(Int64, length(accept_prefs[:,1])-1)\n",
    "    \n",
    "    while length(rem) != 0\n",
    "        apply = rem[end]\n",
    "        d = depth[apply]\n",
    "        if d == length(accept_prefs[:,1])\n",
    "            pop!(rem)\n",
    "        end\n",
    "        applied = apply_prefs[d, apply]\n",
    "        if applied == 0\n",
    "            pop!(rem)\n",
    "        else\n",
    "            if findfirst(accept_prefs[:,applied], apply) < findfirst(accept_prefs[:,applied], da[applied])\n",
    "                pop!(rem)\n",
    "                if da[applied] != 0\n",
    "                    push!(rem, da[applied])\n",
    "                    depth[da[applied]] += 1\n",
    "                end\n",
    "                da[applied] = apply\n",
    "            else\n",
    "                depth[apply] += 1\n",
    "            end\n",
    "        end\n",
    "    end\n",
    "\n",
    "    accept_matched = da\n",
    "    apply_matched = zeros(Int64, length(apply_prefs[1,:]))\n",
    "    \n",
    "    for i in 1:length(accept_matched)\n",
    "        if accept_matched[i] != 0\n",
    "            apply_matched[accept_matched[i]] = i\n",
    "        end\n",
    "    end\n",
    "    return apply_matched, accept_matched\n",
    "end\n",
    "\n",
    "function g()\n",
    "    return 1\n",
    "end\n",
    "\n",
    "end"
   ]
  },
  {
   "cell_type": "code",
   "execution_count": 48,
   "metadata": {
    "collapsed": false
   },
   "outputs": [
    {
     "data": {
      "text/plain": [
       "1x4 Array{Int64,2}:\n",
       " 1  3  2  3"
      ]
     },
     "execution_count": 48,
     "metadata": {},
     "output_type": "execute_result"
    }
   ],
   "source": [
    "m_prefs[1,:]"
   ]
  },
  {
   "cell_type": "code",
   "execution_count": 49,
   "metadata": {
    "collapsed": false
   },
   "outputs": [
    {
     "name": "stdout",
     "output_type": "stream",
     "text": [
      "Array{Int64,1}"
     ]
    },
    {
     "data": {
      "text/plain": [
       "([1,2,3,0],[1,2,3])"
      ]
     },
     "execution_count": 49,
     "metadata": {},
     "output_type": "execute_result"
    }
   ],
   "source": [
    "f = matching_simulation.Matching(m_prefs, f_prefs)\n",
    "f(\"DA1\")"
   ]
  },
  {
   "cell_type": "code",
   "execution_count": 6,
   "metadata": {
    "collapsed": false
   },
   "outputs": [
    {
     "data": {
      "text/plain": [
       "_randperm2d! (generic function with 1 method)"
      ]
     },
     "execution_count": 6,
     "metadata": {},
     "output_type": "execute_result"
    }
   ],
   "source": [
    "include(\"matching_tools.jl\")"
   ]
  },
  {
   "cell_type": "code",
   "execution_count": 10,
   "metadata": {
    "collapsed": false
   },
   "outputs": [],
   "source": [
    "m_prefs, f_prefs = random_prefs(4, 4);"
   ]
  },
  {
   "cell_type": "code",
   "execution_count": 29,
   "metadata": {
    "collapsed": false
   },
   "outputs": [
    {
     "data": {
      "text/plain": [
       "1x4 Array{Int64,2}:\n",
       " 1  3  2  3"
      ]
     },
     "execution_count": 29,
     "metadata": {},
     "output_type": "execute_result"
    }
   ],
   "source": [
    "m_prefs[1,:]"
   ]
  },
  {
   "cell_type": "code",
   "execution_count": 1,
   "metadata": {
    "collapsed": false
   },
   "outputs": [
    {
     "name": "stdout",
     "output_type": "stream",
     "text": [
      "Test Summary:                  | Pass  Total\n",
      "Testing deferred_acceptance.jl |    4      4\n"
     ]
    },
    {
     "data": {
      "text/plain": [
       "BaseTestNext.DefaultTestSet(\"Testing deferred_acceptance.jl\",Any[BaseTestNext.DefaultTestSet(\"deferred_acceptance\",Any[Test Passed\n",
       "  Expression: m_matched_computed == m_matched_expected\n",
       "   Evaluated: [1,2,3,0] == [1,2,3,0],Test Passed\n",
       "  Expression: f_matched_computed == f_matched_expected\n",
       "   Evaluated: [1,2,3] == [1,2,3],Test Passed\n",
       "  Expression: m_matched_computed == m_matched_expected\n",
       "   Evaluated: [1,2,3,0] == [1,2,3,0],Test Passed\n",
       "  Expression: f_matched_computed == f_matched_expected\n",
       "   Evaluated: [1,2,3] == [1,2,3]],false)],false)"
      ]
     },
     "execution_count": 1,
     "metadata": {},
     "output_type": "execute_result"
    }
   ],
   "source": [
    "include(\"test_deferred_acceptance.jl\")"
   ]
  },
  {
   "cell_type": "code",
   "execution_count": 9,
   "metadata": {
    "collapsed": false
   },
   "outputs": [
    {
     "data": {
      "text/plain": [
       "5-element Array{Int64,1}:\n",
       " 3\n",
       " 2\n",
       " 0\n",
       " 4\n",
       " 1"
      ]
     },
     "execution_count": 9,
     "metadata": {},
     "output_type": "execute_result"
    }
   ],
   "source": [
    "m_prefs[:,1]"
   ]
  },
  {
   "cell_type": "code",
   "execution_count": 118,
   "metadata": {
    "collapsed": false
   },
   "outputs": [
    {
     "data": {
      "text/plain": [
       "Matching.DA(5x4 Array{Int64,2}:\n",
       " 3  2  2  4\n",
       " 4  4  1  1\n",
       " 2  3  0  3\n",
       " 1  1  4  2\n",
       " 0  0  3  0,5x4 Array{Int64,2}:\n",
       " 1  3  4  4\n",
       " 0  2  2  2\n",
       " 2  0  3  1\n",
       " 4  1  1  0\n",
       " 3  4  0  3)"
      ]
     },
     "execution_count": 118,
     "metadata": {},
     "output_type": "execute_result"
    }
   ],
   "source": [
    "f = Matching.DA(m_prefs, f_prefs)"
   ]
  },
  {
   "cell_type": "code",
   "execution_count": 119,
   "metadata": {
    "collapsed": false
   },
   "outputs": [
    {
     "ename": "LoadError",
     "evalue": "LoadError: BoundsError: attempt to access 5x4 Array{Int64,2}:\n 3  2  2  4\n 4  4  1  1\n 2  3  0  3\n 1  1  4  2\n 0  0  3  0\n  at index [Colon(),5]\nwhile loading In[119], in expression starting on line 1",
     "output_type": "error",
     "traceback": [
      "LoadError: BoundsError: attempt to access 5x4 Array{Int64,2}:\n 3  2  2  4\n 4  4  1  1\n 2  3  0  3\n 1  1  4  2\n 0  0  3  0\n  at index [Colon(),5]\nwhile loading In[119], in expression starting on line 1",
      "",
      " in throw_boundserror at abstractarray.jl:156",
      " in checkbounds at abstractarray.jl:159",
      " in _getindex at multidimensional.jl:185",
      " in call at In[112]:28"
     ]
    }
   ],
   "source": [
    "f(\"DA1\")"
   ]
  },
  {
   "cell_type": "code",
   "execution_count": 110,
   "metadata": {
    "collapsed": false
   },
   "outputs": [
    {
     "data": {
      "text/plain": [
       "Char"
      ]
     },
     "execution_count": 110,
     "metadata": {},
     "output_type": "execute_result"
    }
   ],
   "source": [
    "typeof('y')"
   ]
  },
  {
   "cell_type": "code",
   "execution_count": 111,
   "metadata": {
    "collapsed": false
   },
   "outputs": [
    {
     "ename": "LoadError",
     "evalue": "LoadError: syntax: invalid character literal\nwhile loading In[111], in expression starting on line 1",
     "output_type": "error",
     "traceback": [
      "LoadError: syntax: invalid character literal\nwhile loading In[111], in expression starting on line 1",
      ""
     ]
    }
   ],
   "source": [
    "typ = 'DA1'\n",
    "if typ == 'DA1'\n",
    "    g()\n",
    "end"
   ]
  },
  {
   "cell_type": "code",
   "execution_count": 49,
   "metadata": {
    "collapsed": false
   },
   "outputs": [
    {
     "name": "stdout",
     "output_type": "stream",
     "text": [
      "hoge is huge or hige\n"
     ]
    }
   ],
   "source": [
    "hoge = \"hige\"\n",
    "if hoge[1] == \"h\" && hoge[2:4] == \"oge\"\n",
    "    println(\"hoge is hoge\")\n",
    "elseif hoge == \"huge\" || hoge == \"hige\"\n",
    "    println(\"hoge is huge or hige\")\n",
    "else\n",
    "    println(\"hoge is \", hoge)\n",
    "end"
   ]
  },
  {
   "cell_type": "code",
   "execution_count": 76,
   "metadata": {
    "collapsed": false
   },
   "outputs": [
    {
     "data": {
      "text/plain": [
       "3-element Array{Int64,1}:\n",
       " 1\n",
       " 2\n",
       " 3"
      ]
     },
     "execution_count": 76,
     "metadata": {},
     "output_type": "execute_result"
    }
   ],
   "source": [
    "rem = [i for i in 1:3]"
   ]
  },
  {
   "cell_type": "code",
   "execution_count": 62,
   "metadata": {
    "collapsed": false
   },
   "outputs": [
    {
     "data": {
      "text/plain": [
       "ASCIIString"
      ]
     },
     "execution_count": 62,
     "metadata": {},
     "output_type": "execute_result"
    }
   ],
   "source": [
    "typeof(typ)"
   ]
  },
  {
   "cell_type": "code",
   "execution_count": null,
   "metadata": {
    "collapsed": true
   },
   "outputs": [],
   "source": []
  },
  {
   "cell_type": "code",
   "execution_count": null,
   "metadata": {
    "collapsed": true
   },
   "outputs": [],
   "source": []
  },
  {
   "cell_type": "code",
   "execution_count": 61,
   "metadata": {
    "collapsed": false
   },
   "outputs": [
    {
     "data": {
      "text/plain": [
       "\"DA1\""
      ]
     },
     "execution_count": 61,
     "metadata": {},
     "output_type": "execute_result"
    }
   ],
   "source": [
    "typ = \"DA1\""
   ]
  },
  {
   "cell_type": "code",
   "execution_count": 58,
   "metadata": {
    "collapsed": false
   },
   "outputs": [
    {
     "ename": "LoadError",
     "evalue": "LoadError: syntax: invalid character literal\nwhile loading In[58], in expression starting on line 1",
     "output_type": "error",
     "traceback": [
      "LoadError: syntax: invalid character literal\nwhile loading In[58], in expression starting on line 1",
      ""
     ]
    }
   ],
   "source": [
    "if typ == 'DA1'\n",
    "    return 1\n",
    "end"
   ]
  },
  {
   "cell_type": "code",
   "execution_count": 53,
   "metadata": {
    "collapsed": false
   },
   "outputs": [],
   "source": [
    "if hoge[1] == \"h\" \n",
    "    print(1)\n",
    "end"
   ]
  },
  {
   "cell_type": "code",
   "execution_count": 74,
   "metadata": {
    "collapsed": false
   },
   "outputs": [
    {
     "data": {
      "text/plain": [
       "10-element Array{Float64,1}:\n",
       " 4.06619e251\n",
       " 3.29752e-28\n",
       " 5.11917e160\n",
       " 1.71888e6  \n",
       " 1.3429e-317\n",
       " 0.0        \n",
       " 0.0        \n",
       " 0.0        \n",
       " 0.0        \n",
       " 0.0        "
      ]
     },
     "execution_count": 74,
     "metadata": {},
     "output_type": "execute_result"
    }
   ],
   "source": [
    "da = Array(Float64, 10)"
   ]
  },
  {
   "cell_type": "code",
   "execution_count": 75,
   "metadata": {
    "collapsed": false
   },
   "outputs": [
    {
     "data": {
      "text/plain": [
       "10-element Array{Float64,1}:\n",
       " 4.06619e251\n",
       " 3.29752e-28\n",
       " 5.11917e160\n",
       " 1.71888e6  \n",
       " 1.3429e-317\n",
       " 0.0        \n",
       " 0.0        \n",
       " 0.0        \n",
       " 0.0        \n",
       " 0.0        "
      ]
     },
     "execution_count": 75,
     "metadata": {},
     "output_type": "execute_result"
    }
   ],
   "source": [
    "da"
   ]
  },
  {
   "cell_type": "code",
   "execution_count": 89,
   "metadata": {
    "collapsed": false
   },
   "outputs": [
    {
     "data": {
      "text/plain": [
       "1.342901e-317"
      ]
     },
     "execution_count": 89,
     "metadata": {},
     "output_type": "execute_result"
    }
   ],
   "source": [
    "pop!(da)\n"
   ]
  },
  {
   "cell_type": "code",
   "execution_count": 90,
   "metadata": {
    "collapsed": false
   },
   "outputs": [
    {
     "data": {
      "text/plain": [
       "4-element Array{Float64,1}:\n",
       " 4.06619e251\n",
       " 3.29752e-28\n",
       " 5.11917e160\n",
       " 1.71888e6  "
      ]
     },
     "execution_count": 90,
     "metadata": {},
     "output_type": "execute_result"
    }
   ],
   "source": [
    "da"
   ]
  },
  {
   "cell_type": "code",
   "execution_count": 92,
   "metadata": {
    "collapsed": false
   },
   "outputs": [
    {
     "data": {
      "text/plain": [
       "1.718884396124092e6"
      ]
     },
     "execution_count": 92,
     "metadata": {},
     "output_type": "execute_result"
    }
   ],
   "source": [
    "da[end]"
   ]
  },
  {
   "cell_type": "code",
   "execution_count": 104,
   "metadata": {
    "collapsed": false
   },
   "outputs": [
    {
     "data": {
      "text/plain": [
       "10"
      ]
     },
     "execution_count": 104,
     "metadata": {},
     "output_type": "execute_result"
    }
   ],
   "source": [
    "da[4] = 10"
   ]
  },
  {
   "cell_type": "code",
   "execution_count": 118,
   "metadata": {
    "collapsed": false
   },
   "outputs": [
    {
     "data": {
      "text/plain": [
       "4"
      ]
     },
     "execution_count": 118,
     "metadata": {},
     "output_type": "execute_result"
    }
   ],
   "source": [
    "findfirst(da, 10)"
   ]
  },
  {
   "cell_type": "code",
   "execution_count": 116,
   "metadata": {
    "collapsed": false
   },
   "outputs": [
    {
     "data": {
      "text/plain": [
       "10-element Array{Int64,1}:\n",
       "  2\n",
       "  2\n",
       "  2\n",
       " 10\n",
       "  0\n",
       "  0\n",
       "  0\n",
       "  0\n",
       "  0\n",
       "  0"
      ]
     },
     "execution_count": 116,
     "metadata": {},
     "output_type": "execute_result"
    }
   ],
   "source": [
    "da"
   ]
  },
  {
   "cell_type": "code",
   "execution_count": 90,
   "metadata": {
    "collapsed": false
   },
   "outputs": [
    {
     "data": {
      "text/plain": [
       "Int64"
      ]
     },
     "execution_count": 90,
     "metadata": {},
     "output_type": "execute_result"
    }
   ],
   "source": [
    "typeof(2)"
   ]
  },
  {
   "cell_type": "code",
   "execution_count": 92,
   "metadata": {
    "collapsed": false
   },
   "outputs": [
    {
     "data": {
      "text/plain": [
       "\"foogoo\""
      ]
     },
     "execution_count": 92,
     "metadata": {},
     "output_type": "execute_result"
    }
   ],
   "source": [
    "\"foo\"*\"goo\""
   ]
  },
  {
   "cell_type": "code",
   "execution_count": 2,
   "metadata": {
    "collapsed": false
   },
   "outputs": [
    {
     "ename": "LoadError",
     "evalue": "LoadError: MethodError: `parent` has no method matching parent(::Type{Array{T,1}})\nwhile loading In[2], in expression starting on line 1",
     "output_type": "error",
     "traceback": [
      "LoadError: MethodError: `parent` has no method matching parent(::Type{Array{T,1}})\nwhile loading In[2], in expression starting on line 1",
      ""
     ]
    }
   ],
   "source": [
    "parent(Vector)"
   ]
  },
  {
   "cell_type": "code",
   "execution_count": null,
   "metadata": {
    "collapsed": true
   },
   "outputs": [],
   "source": []
  }
 ],
 "metadata": {
  "kernelspec": {
   "display_name": "Julia 0.4.5",
   "language": "julia",
   "name": "julia-0.4"
  },
  "language_info": {
   "file_extension": ".jl",
   "mimetype": "application/julia",
   "name": "julia",
   "version": "0.4.5"
  }
 },
 "nbformat": 4,
 "nbformat_minor": 0
}
