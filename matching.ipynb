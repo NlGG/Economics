{
 "cells": [
  {
   "cell_type": "code",
   "execution_count": 29,
   "metadata": {
    "collapsed": false
   },
   "outputs": [
    {
     "name": "stdout",
     "output_type": "stream",
     "text": [
      "function deferred_acceptance(apply_prefs::Array{Int64, 2}, accept_prefs::Array{Int64, 2}) \n",
      "    da = zeros(Int64, length(accept_prefs[1,:]))\n",
      "    rem = [i for i in 1:length(apply_prefs[1,:])]\n",
      "    depth = ones(Int64, length(accept_prefs[:,1])-1)\n",
      "    \n",
      "    while length(rem) != 0\n",
      "        apply = rem[end]\n",
      "        d = depth[apply]\n",
      "        if d == length(accept_prefs[:,1])\n",
      "            pop!(rem)\n",
      "        end\n",
      "        applied = apply_prefs[d, apply]\n",
      "        if applied == 0\n",
      "            pop!(rem)\n",
      "        else\n",
      "            if find(accept_prefs[:,applied] .== apply)[1] < find(accept_prefs[:,applied] .== da[applied])[1]\n",
      "                pop!(rem)\n",
      "                if da[applied] != 0\n",
      "                    push!(rem, da[applied])\n",
      "                    depth[da[applied]] += 1\n",
      "                end\n",
      "                da[applied] = apply\n",
      "            else\n",
      "                depth[apply] += 1\n",
      "            end\n",
      "        end\n",
      "    end\n",
      "\n",
      "    accept_matched = da\n",
      "    apply_matched = zeros(Int64, length(apply_prefs[1,:]))\n",
      "    \n",
      "    for i in 1:length(accept_matched)\n",
      "        if accept_matched[i] != 0\n",
      "            apply_matched[accept_matched[i]] = i\n",
      "        end\n",
      "    end\n",
      "    return apply_matched, accept_matched\n",
      "end"
     ]
    }
   ],
   "source": [
    ";cat deferred_acceptance.jl"
   ]
  },
  {
   "cell_type": "code",
   "execution_count": 30,
   "metadata": {
    "collapsed": false
   },
   "outputs": [
    {
     "name": "stdout",
     "output_type": "stream",
     "text": [
      "Variables:\n",
      "  _path::ASCIIString\n",
      "  result::ANY\n",
      "  path::UNION{ASCIISTRING,UTF8STRING}\n",
      "  prev::ANY\n",
      "  #s331::Int64\n",
      "  tls::ObjectIdDict\n",
      "  #s332::ANY\n",
      "  #s335::Bool\n",
      "  #s333::ANY\n",
      "\n",
      "Body:\n",
      "  begin  # loading.jl, line 312:\n",
      "      NewvarNode(:result)\n",
      "      GenSym(0) = (Base._include_dependency)(_path::ASCIIString)::TUPLE{BYTESTRING,ANY}\n",
      "      #s331 = 1\n",
      "      GenSym(7) = (Base.getfield)(GenSym(0),1)::ANY\n",
      "      GenSym(8) = (Base.box)(Base.Int,(Base.add_int)(1,1))\n",
      "      path = GenSym(7)\n",
      "      #s331 = GenSym(8)\n",
      "      GenSym(9) = (Base.getfield)(GenSym(0),2)::ANY\n",
      "      GenSym(10) = (Base.box)(Base.Int,(Base.add_int)(2,1))\n",
      "      prev = GenSym(9)\n",
      "      #s331 = GenSym(10) # loading.jl, line 313:\n",
      "      tls = (Base.task_local_storage)()::ObjectIdDict # loading.jl, line 314:\n",
      "      (Base.setindex!)(tls::ObjectIdDict,path::UNION{ASCIISTRING,UTF8STRING},:SOURCE_PATH)::ObjectIdDict # loading.jl, line 315: # loading.jl, line 316:\n",
      "      NewvarNode(symbol(\"#s332\"))\n",
      "      NewvarNode(symbol(\"#s333\"))\n",
      "      #s335 = false\n",
      "      $(Expr(:enter, 1)) # loading.jl, line 317:\n",
      "      unless (top(getfield))(Base.LPROC,:id)::Int64 === 1::Bool goto 6 # loading.jl, line 319:\n",
      "      GenSym(4) = (Base.arraylen)((top(getfield))(Base.PGRP,:workers)::Array{Any,1})::Int64\n",
      "      unless (Base.slt_int)(1,GenSym(4))::Bool goto 3\n",
      "      (Base.sleep)(0.005)::Void\n",
      "      goto 3\n",
      "      3:  # loading.jl, line 320:\n",
      "      result = (Core.include)(path::UNION{ASCIISTRING,UTF8STRING})::ANY # loading.jl, line 321:\n",
      "      GenSym(5) = (Base.arraylen)((top(getfield))(Base.PGRP,:workers)::Array{Any,1})::Int64\n",
      "      unless (Base.slt_int)(1,GenSym(5))::Bool goto 4\n",
      "      #s332 = (Base.sleep)(0.005)::Void\n",
      "      goto 5\n",
      "      4: \n",
      "      #s332 = false\n",
      "      5: \n",
      "      goto 7\n",
      "      6:  # loading.jl, line 323:\n",
      "      GenSym(3) = (Base.include_string)((Base.remotecall_fetch)(1,Base.readall,path::UNION{ASCIISTRING,UTF8STRING})::ANY,path::UNION{ASCIISTRING,UTF8STRING})::ANY\n",
      "      result = GenSym(3)\n",
      "      #s332 = GenSym(3)\n",
      "      7: \n",
      "      $(Expr(:leave, 1))\n",
      "      goto 2\n",
      "      1: \n",
      "      $(Expr(:leave, 1))\n",
      "      #s335 = true\n",
      "      2: \n",
      "      0: \n",
      "      #s333 = $(Expr(:the_exception)) # loading.jl, line 326:\n",
      "      unless prev === Base.nothing::Bool goto 8 # loading.jl, line 327:\n",
      "      (top(ccall))(:jl_eqtable_pop,Base.Any,(top(svec))(Base.Any,Base.Any)::SimpleVector,(top(getfield))(tls::ObjectIdDict,:ht)::Array{Any,1},0,:SOURCE_PATH,0)\n",
      "      tls::ObjectIdDict\n",
      "      goto 9\n",
      "      8:  # loading.jl, line 329:\n",
      "      GenSym(6) = (top(ccall))(:jl_eqtable_put,(top(apply_type))(Base.Array,Base.Any,1)::Type{Array{Any,1}},(top(svec))(Base.Any,Base.Any,Base.Any)::SimpleVector,(top(getfield))(tls::ObjectIdDict,:ht)::Array{Any,1},0,:SOURCE_PATH,0,prev,0)::Array{Any,1}\n",
      "      (top(setfield!))(tls::ObjectIdDict,:ht,GenSym(6))::Array{Any,1}\n",
      "      tls::ObjectIdDict\n",
      "      9: \n",
      "      unless #s335::Bool goto 10\n",
      "      (top(ccall))(:jl_rethrow_other,Base.Void,(top(svec))(Base.Any)::SimpleVector,#s333,0)::Void\n",
      "      10:  # loading.jl, line 332:\n",
      "      return result\n",
      "  end::ANY\n"
     ]
    }
   ],
   "source": [
    "@code_warntype include(\"test_deferred_acceptance.jl\")"
   ]
  },
  {
   "cell_type": "code",
   "execution_count": null,
   "metadata": {
    "collapsed": true
   },
   "outputs": [],
   "source": [
    "0.109128 seconds"
   ]
  }
 ],
 "metadata": {
  "kernelspec": {
   "display_name": "Julia 0.4.5",
   "language": "julia",
   "name": "julia-0.4"
  },
  "language_info": {
   "file_extension": ".jl",
   "mimetype": "application/julia",
   "name": "julia",
   "version": "0.4.5"
  }
 },
 "nbformat": 4,
 "nbformat_minor": 0
}
