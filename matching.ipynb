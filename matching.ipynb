{
 "cells": [
  {
   "cell_type": "code",
   "execution_count": 6,
   "metadata": {
    "collapsed": false
   },
   "outputs": [
    {
     "name": "stdout",
     "output_type": "stream",
     "text": [
      "function deferred_acceptance(apply_prefs::Array, accept_prefs::Array) \n",
      "    da = zeros(Int64, length(accept_prefs[1,:]))\n",
      "    rem = [i for i in 1:length(apply_prefs[1,:])]\n",
      "    depth = ones(Int64, length(accept_prefs[:,1])-1)\n",
      "    \n",
      "    while length(rem) != 0\n",
      "        apply = rem[end]\n",
      "        d = depth[apply]\n",
      "        if d == length(accept_prefs[:,1])\n",
      "            pop!(rem)\n",
      "        end\n",
      "        applied = apply_prefs[d, apply]\n",
      "        if applied == 0\n",
      "            pop!(rem)\n",
      "        else\n",
      "            if find(accept_prefs[:,applied] .== apply)[1] < find(accept_prefs[:,applied] .== da[applied])[1]\n",
      "                pop!(rem)\n",
      "                if da[applied] != 0\n",
      "                    push!(rem, da[applied])\n",
      "                    depth[da[applied]] += 1\n",
      "                end\n",
      "                da[applied] = apply\n",
      "            else\n",
      "                depth[apply] += 1\n",
      "            end\n",
      "        end\n",
      "    end\n",
      "\n",
      "    accept_matched = da\n",
      "    apply_matched = zeros(Int64, length(apply_prefs[1,:]))\n",
      "    \n",
      "    for i in 1:length(accept_matched)\n",
      "        if accept_matched[i] != 0\n",
      "            apply_matched[accept_matched[i]] = i\n",
      "        end\n",
      "    end\n",
      "    return apply_matched, accept_matched\n",
      "end"
     ]
    }
   ],
   "source": [
    ";cat deferred_acceptance.jl"
   ]
  },
  {
   "cell_type": "code",
   "execution_count": 5,
   "metadata": {
    "collapsed": false
   },
   "outputs": [
    {
     "name": "stdout",
     "output_type": "stream",
     "text": [
      "Test Summary:                  | Pass  Total\n",
      "Testing deferred_acceptance.jl |    4      4\n"
     ]
    },
    {
     "name": "stderr",
     "output_type": "stream",
     "text": [
      "WARNING: redefining constant file_name\n",
      "WARNING: redefining constant function_name\n"
     ]
    },
    {
     "data": {
      "text/plain": [
       "BaseTestNext.DefaultTestSet(\"Testing deferred_acceptance.jl\",Any[BaseTestNext.DefaultTestSet(\"deferred_acceptance\",Any[Test Passed\n",
       "  Expression: m_matched_computed == m_matched_expected\n",
       "   Evaluated: [1,2,3,0] == [1,2,3,0],Test Passed\n",
       "  Expression: f_matched_computed == f_matched_expected\n",
       "   Evaluated: [1,2,3] == [1,2,3],Test Passed\n",
       "  Expression: m_matched_computed == m_matched_expected\n",
       "   Evaluated: [1,2,3,0] == [1,2,3,0],Test Passed\n",
       "  Expression: f_matched_computed == f_matched_expected\n",
       "   Evaluated: [1,2,3] == [1,2,3]],false)],false)"
      ]
     },
     "execution_count": 5,
     "metadata": {},
     "output_type": "execute_result"
    }
   ],
   "source": [
    "include(\"test_deferred_acceptance.jl\")"
   ]
  },
  {
   "cell_type": "code",
   "execution_count": null,
   "metadata": {
    "collapsed": true
   },
   "outputs": [],
   "source": []
  }
 ],
 "metadata": {
  "kernelspec": {
   "display_name": "Julia 0.4.5",
   "language": "julia",
   "name": "julia-0.4"
  },
  "language_info": {
   "file_extension": ".jl",
   "mimetype": "application/julia",
   "name": "julia",
   "version": "0.4.5"
  }
 },
 "nbformat": 4,
 "nbformat_minor": 0
}
