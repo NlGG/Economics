{
 "cells": [
  {
   "cell_type": "code",
   "execution_count": 340,
   "metadata": {
    "collapsed": false
   },
   "outputs": [
    {
     "name": "stdout",
     "output_type": "stream",
     "text": [
      "function deferred_acceptance(apply_prefs::Array{Int64}, accept_prefs::Array{Int64}, caps=ones(Int64, length(accept_prefs[1, :])))\n",
      "    num_of_apply = length(accept_prefs[:,1])-1\n",
      "    num_of_accept = length(accept_prefs[1,:])\n",
      "    \n",
      "    ranking = zeros(Int64, num_of_apply+1, num_of_accept)\n",
      "    \n",
      "    da = zeros(Int64, num_of_apply+1, num_of_accept+1)\n",
      "    \n",
      "    num_of_da = zeros(Int64, num_of_accept)\n",
      "    \n",
      "    for i in 1:num_of_apply+1\n",
      "        if i == num_of_apply+1\n",
      "            search = 0\n",
      "        else\n",
      "            search = i\n",
      "        end\n",
      "        \n",
      "        for j in 1:num_of_accept\n",
      "            ranking[i, j] = findfirst(accept_prefs[:,j], search)\n",
      "        end\n",
      "    end\n",
      "    \n",
      "    rem = [1 for i in 1:length(apply_prefs[1,:])]\n",
      "    depth = ones(Int64, length(accept_prefs[:,1])-1)\n",
      "    \n",
      "    b=1\n",
      "    while true\n",
      "        apply = findfirst(rem, 1)\n",
      "        if apply == 0\n",
      "            break\n",
      "        end\n",
      "        \n",
      "        d = depth[apply]\n",
      "        if d >= num_of_apply\n",
      "            rem[apply] = 0\n",
      "        else\n",
      "            \n",
      "            applied = apply_prefs[d, apply]\n",
      "\n",
      "            if applied == 0\n",
      "                rem[apply] = 0\n",
      "            else\n",
      "                my_rank = ranking[apply, applied]\n",
      "                if num_of_da[applied] < caps[applied]\n",
      "                    if my_rank < ranking[end, applied]\n",
      "                        da[apply, applied] = 1\n",
      "                        num_of_da[applied] += 1\n",
      "                        rem[apply] = 0\n",
      "                    else  \n",
      "                        depth[apply] += 1\n",
      "                    end\n",
      "                else \n",
      "                    list_of_da = findn(da[:, applied])\n",
      "\n",
      "                    da_rank = Array(Int64, length(list_of_da))\n",
      "                    \n",
      "\n",
      "                    for i in 1:length(list_of_da)\n",
      "                        da_rank[i] = ranking[list_of_da[i], applied]\n",
      "                    end\n",
      "\n",
      "                    \n",
      "                    worst_st_rank = maximum(da_rank)\n",
      "                    worst_st = list_of_da[findfirst(da_rank, worst_st_rank)]                 \n",
      "\n",
      "                    if my_rank < worst_st_rank\n",
      "                        rem[apply] = 0\n",
      "                        da[apply, applied] = 1\n",
      "                        da[worst_st, applied] = 0\n",
      "                        rem[worst_st] = 1\n",
      "                        depth[worst_st] += 1\n",
      "                    else\n",
      "                        depth[apply] += 1\n",
      "                    end\n",
      "\n",
      "                end\n",
      "            end\n",
      "        end\n",
      "    end\n",
      "    \n",
      "    accept_matched = Array(Int64, 0)\n",
      "    apply_matched = zeros(Int64, num_of_apply)\n",
      "    \n",
      "    for i in 1:num_of_accept\n",
      "        das = findn(da[:, i])\n",
      "        append!(das, zeros(Int64, caps[i] - length(das)))\n",
      "        append!(accept_matched, das)\n",
      "        for d in das\n",
      "            if d != 0\n",
      "                apply_matched[d] = i\n",
      "            end\n",
      "        end\n",
      "    \n",
      "    end\n",
      "    \n",
      "    indptr = Array(Int64, num_of_accept+1)\n",
      "    indptr[1] = 1\n",
      "    for i in 1:num_of_accept\n",
      "        indptr[i+1] = indptr[i] + caps[i]\n",
      "    end\n",
      "    return apply_matched, accept_matched, indptr\n",
      "end"
     ]
    }
   ],
   "source": [
    ";cat deferred_acceptance.jl"
   ]
  },
  {
   "cell_type": "code",
   "execution_count": 339,
   "metadata": {
    "collapsed": false
   },
   "outputs": [
    {
     "name": "stdout",
     "output_type": "stream",
     "text": [
      "Test Summary:                  | Pass  Total\n",
      "Testing deferred_acceptance.jl |   10     10\n",
      "include(\"test_deferred_acceptance.jl\") = BaseTestNext.DefaultTestSet(\"Testing deferred_acceptance.jl\",Any[BaseTestNext.DefaultTestSet(\"deferred_acceptance: one-to-one\",Any[Test Passed\n",
      "  Expression: m_matched_computed == m_matched_expected\n",
      "   Evaluated: [1,2,3,0] == [1,2,3,0],Test Passed\n",
      "  Expression: f_matched_computed == f_matched_expected\n",
      "   Evaluated: [1,2,3] == [1,2,3],Test Passed\n",
      "  Expression: m_matched_computed == m_matched_expected\n",
      "   Evaluated: [1,2,3,0] == [1,2,3,0],Test Passed\n",
      "  Expression: f_matched_computed == f_matched_expected\n",
      "   Evaluated: [1,2,3] == [1,2,3]],false),BaseTestNext.DefaultTestSet(\"deferred_acceptance: many-to-one with caps 1\",Any[Test Passed\n",
      "  Expression: m_matched_computed == m_matched_expected\n",
      "   Evaluated: [1,2,3,0] == [1,2,3,0],Test Passed\n",
      "  Expression: f_matched_computed == f_matched_expected\n",
      "   Evaluated: [1,2,3] == [1,2,3],Test Passed\n",
      "  Expression: indptr_computed == indptr_expected\n",
      "   Evaluated: [1,2,3,4] == [1,2,3,4]],false),BaseTestNext.DefaultTestSet(\"deferred_acceptance: many-to-one\",Any[Test Passed\n",
      "  Expression: s_matched_computed == s_matched_expected\n",
      "   Evaluated: [3,1,4,3,1,3,2,1,4,1,5] == [3,1,4,3,1,3,2,1,4,1,5],Test Passed\n",
      "  Expression: indptr_computed == indptr_expected\n",
      "   Evaluated: [1,5,6,9,11,12] == [1,5,6,9,11,12],Test Passed\n",
      "  Expression: c_matched_computed == c_matched_expected\n",
      "   Evaluated: [2,5,8,10,7,1,4,6,3,9,11] == [2,5,8,10,7,1,4,6,3,9,11]],false)],false)\n"
     ]
    },
    {
     "name": "stderr",
     "output_type": "stream",
     "text": [
      "WARNING: redefining constant file_name\n",
      "WARNING: redefining constant function_name\n"
     ]
    },
    {
     "data": {
      "text/plain": [
       "BaseTestNext.DefaultTestSet(\"Testing deferred_acceptance.jl\",Any[BaseTestNext.DefaultTestSet(\"deferred_acceptance: one-to-one\",Any[Test Passed\n",
       "  Expression: m_matched_computed == m_matched_expected\n",
       "   Evaluated: [1,2,3,0] == [1,2,3,0],Test Passed\n",
       "  Expression: f_matched_computed == f_matched_expected\n",
       "   Evaluated: [1,2,3] == [1,2,3],Test Passed\n",
       "  Expression: m_matched_computed == m_matched_expected\n",
       "   Evaluated: [1,2,3,0] == [1,2,3,0],Test Passed\n",
       "  Expression: f_matched_computed == f_matched_expected\n",
       "   Evaluated: [1,2,3] == [1,2,3]],false),BaseTestNext.DefaultTestSet(\"deferred_acceptance: many-to-one with caps 1\",Any[Test Passed\n",
       "  Expression: m_matched_computed == m_matched_expected\n",
       "   Evaluated: [1,2,3,0] == [1,2,3,0],Test Passed\n",
       "  Expression: f_matched_computed == f_matched_expected\n",
       "   Evaluated: [1,2,3] == [1,2,3],Test Passed\n",
       "  Expression: indptr_computed == indptr_expected\n",
       "   Evaluated: [1,2,3,4] == [1,2,3,4]],false),BaseTestNext.DefaultTestSet(\"deferred_acceptance: many-to-one\",Any[Test Passed\n",
       "  Expression: s_matched_computed == s_matched_expected\n",
       "   Evaluated: [3,1,4,3,1,3,2,1,4,1,5] == [3,1,4,3,1,3,2,1,4,1,5],Test Passed\n",
       "  Expression: indptr_computed == indptr_expected\n",
       "   Evaluated: [1,5,6,9,11,12] == [1,5,6,9,11,12],Test Passed\n",
       "  Expression: c_matched_computed == c_matched_expected\n",
       "   Evaluated: [2,5,8,10,7,1,4,6,3,9,11] == [2,5,8,10,7,1,4,6,3,9,11]],false)],false)"
      ]
     },
     "execution_count": 339,
     "metadata": {},
     "output_type": "execute_result"
    }
   ],
   "source": [
    "include(\"test_deferred_acceptance.jl\")"
   ]
  }
 ],
 "metadata": {
  "kernelspec": {
   "display_name": "Julia 0.4.5",
   "language": "julia",
   "name": "julia-0.4"
  },
  "language_info": {
   "file_extension": ".jl",
   "mimetype": "application/julia",
   "name": "julia",
   "version": "0.4.5"
  }
 },
 "nbformat": 4,
 "nbformat_minor": 0
}
